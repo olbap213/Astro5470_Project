{
 "cells": [
  {
   "cell_type": "code",
   "execution_count": 3,
   "id": "e64045da-9df2-4a3c-910a-bf7de47e1076",
   "metadata": {},
   "outputs": [],
   "source": [
    "import numpy as np\n",
    "import matplotlib.pyplot as plt\n",
    "import read_lines as db"
   ]
  },
  {
   "cell_type": "markdown",
   "id": "64114a76-cd1e-4534-ae78-c333dcb89c9f",
   "metadata": {},
   "source": [
    "# Test #1\n",
    "\n",
    "Read in values from the JPL database and compute needed parameters for the model, and compare these value to those of WEEDS"
   ]
  },
  {
   "cell_type": "code",
   "execution_count": 19,
   "id": "80c53b57-691c-46d0-bef5-82039c49d39a",
   "metadata": {},
   "outputs": [
    {
     "name": "stdout",
     "output_type": "stream",
     "text": [
      "   FREQ           EUP         GUP          Aij          \n",
      "   MHz             K                      1 / s         \n",
      "---------- ------------------ --- ----------------------\n",
      " 91958.726 127.54255306550772  22 2.2780142552719265e-05\n",
      "91971.1304  77.54550801186606  44  4.051412394070277e-05\n",
      "91979.9943  41.82527599649492  22  5.318236681187473e-05\n",
      "91985.3141  20.38991399713559  22 6.0794141284636084e-05\n",
      "91987.0876 13.244169871900455  22  6.333233725197546e-05\n",
      "\n",
      "log10 of the partition function at 113 K from jpl is 3.385433665868661\n"
     ]
    }
   ],
   "source": [
    "# Read in database data\n",
    "lines = db.read_JPL('41001 CH3CN', 91.5, 100)\n",
    "print(lines)\n",
    "\n",
    "# Check the partition function\n",
    "T_list, log_Q = db.read_JPLQ('CH3CN')\n",
    "part_func = db.Q(113, T_list, log_Q)\n",
    "print(\"\\nlog10 of the partition function at 113 K from jpl is\", np.log10(part_func))"
   ]
  },
  {
   "cell_type": "markdown",
   "id": "1e373df9-6845-4a7b-9c2c-8f0ec842bc9b",
   "metadata": {},
   "source": [
    "Below are the results from Weeds\n",
    "![test1](ch3cn_values.png) \n",
    "\n",
    "The values match"
   ]
  },
  {
   "cell_type": "code",
   "execution_count": null,
   "id": "9328b66e-a891-4b64-81d9-47c00574aaca",
   "metadata": {},
   "outputs": [],
   "source": []
  }
 ],
 "metadata": {
  "kernelspec": {
   "display_name": "Python 3 (ipykernel)",
   "language": "python",
   "name": "python3"
  },
  "language_info": {
   "codemirror_mode": {
    "name": "ipython",
    "version": 3
   },
   "file_extension": ".py",
   "mimetype": "text/x-python",
   "name": "python",
   "nbconvert_exporter": "python",
   "pygments_lexer": "ipython3",
   "version": "3.11.5"
  }
 },
 "nbformat": 4,
 "nbformat_minor": 5
}
